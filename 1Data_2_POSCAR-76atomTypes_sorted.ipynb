{
 "cells": [
  {
   "cell_type": "code",
   "execution_count": null,
   "id": "7dc19509",
   "metadata": {},
   "outputs": [],
   "source": [
    "#!/usr/bin/env python\n",
    "\n",
    "import sys\n",
    "import numpy as np\n",
    "import csv\n",
    "import pandas as pd\n"
   ]
  },
  {
   "cell_type": "raw",
   "id": "11e4e324-89d1-444c-bd5f-95266e303339",
   "metadata": {},
   "source": [
    "To get Forces with LAMMPS\n",
    "1. Convert data.file to poscar\n",
    "2. Convert poscar to poscar\n",
    "3. Convert poscar to data.file"
   ]
  },
  {
   "cell_type": "code",
   "execution_count": null,
   "id": "967bd5e5-77dd-4e02-9430-01c07b4c9e94",
   "metadata": {},
   "outputs": [],
   "source": [
    "#To get the simulation box\n",
    "colnames=['N','molecule-tag','atom-type','q','x','y','z','nx','ny','nz'] \n",
    "\n",
    "dat_f = pd.read_csv(\"data.MIL-53-Al-1x1x1-minimized-minimized22-minimized22\",sep=r'\\s+',names=colnames, header=None,skiprows=2,skipfooter=524,engine='python')\n",
    "\n",
    "print(dat_f)\n",
    "#dat_f.head(20)\n",
    "\n",
    "data_file = dat_f.drop(dat_f.index[[0,1,2,3,4,5,6,7]]) \n",
    "data_file.head(4)\n",
    "#dat_f.to_csv('dataMIL_cut_76.txt', sep=\" \", index=False)\n",
    "\n"
   ]
  },
  {
   "cell_type": "code",
   "execution_count": null,
   "id": "464a709b",
   "metadata": {},
   "outputs": [],
   "source": []
  },
  {
   "cell_type": "code",
   "execution_count": null,
   "id": "63508117",
   "metadata": {},
   "outputs": [],
   "source": [
    "#To keep order of atoms unique\n",
    "colnames=['N','molecule-tag','atom-type','q','x','y','z','nx','ny','nz'] \n",
    "\n",
    "df = pd.read_csv(\"data.MIL-53-Al-1x1x1-minimized-minimized22-minimized22\",sep=r'\\s+',names=colnames, header=None,skiprows=79,skipfooter=524,engine='python')\n",
    "\n",
    "#print(df)\n",
    "\n",
    "df['atom-type'] = range(1,len(df)+1) \n",
    "print(df)\n",
    "\n",
    "\n",
    "#df.to_csv('dataMIL_cut_76.txt', sep=\" \", index=False)\n"
   ]
  },
  {
   "cell_type": "code",
   "execution_count": null,
   "id": "9cb34ac0",
   "metadata": {},
   "outputs": [],
   "source": []
  },
  {
   "cell_type": "code",
   "execution_count": null,
   "id": "df9c4860",
   "metadata": {},
   "outputs": [],
   "source": [
    "#Sort by atom type\n",
    "colnames=['N','molecule-tag','atom-type','q','x','y','z','nx','ny','nz'] \n",
    "\n",
    "df2 = pd.read_csv(\"data.MIL-53-Al-1x1x1-minimized-minimized22-minimized22\",sep=r'\\s+',names=colnames, header=None,skiprows=79,skipfooter=524,engine='python')\n",
    "#print(df2)\n",
    "\n",
    "df4 = df2.sort_values(by=['atom-type'])\n",
    "print(df4)\n"
   ]
  },
  {
   "cell_type": "code",
   "execution_count": null,
   "id": "8fbaeb43",
   "metadata": {},
   "outputs": [],
   "source": [
    "#To get specific atom types alone based on sorting done above\n",
    "colnames=['N','molecule-tag','atom-type','q','x','y','z','nx','ny','nz'] \n",
    "\n",
    "at_type = pd.read_csv(\"data.MIL-53-Al-1x1x1-minimized-minimized22-minimized22\",sep=r'\\s+',names=colnames, header=None,skiprows=79,skipfooter=524,engine='python')\n",
    "#print(at_type)\n",
    "\n",
    "at_type = at_type.sort_values(by=['atom-type'])\n",
    "#print(at_type)\n",
    "\n",
    "Dict = {1 : 'O', 2 : 'C', 3: 'C', 4 : 'C', 5: 'H', 6 : 'O', 7 : 'Al', 8: 'H'}\n",
    "\n",
    "#1 16, 2 12, 3 12, 4 12, 5 1, 6 16, 7 27, 8 1\n",
    "\n",
    "at_type['atom-type'] = at_type['atom-type'].map(Dict)\n",
    "#print(at_type)\n"
   ]
  },
  {
   "cell_type": "markdown",
   "id": "c9221ed8",
   "metadata": {},
   "source": [
    "#To get specific atom types\n",
    "colnames=['N','molecule-tag','atom-type','q','x','y','z','nx','ny','nz'] \n",
    "\n",
    "at_type = pd.read_csv(\"data.MIL-53-Al-1x1x1-minimized-minimized22-minimized22\",sep=r'\\s+',names=colnames, header=None,skiprows=79,skipfooter=524)\n",
    "print(at_type)\n",
    "\n",
    "Dict = {1 : 'O', 2 : 'C', 3: 'C', 4 : 'C', 5: 'H', 6 : 'O', 7 : 'Al', 8: 'H'}\n",
    "\n",
    "#1 16, 2 12, 3 12, 4 12, 5 1, 6 16, 7 27, 8 1\n",
    "\n",
    "\n",
    "at_type['atom-type'] = at_type['atom-type'].map(Dict)\n",
    "\n",
    "#print(atty)\n",
    "print(at_type)\n"
   ]
  },
  {
   "cell_type": "code",
   "execution_count": null,
   "id": "a195f27e",
   "metadata": {},
   "outputs": [],
   "source": []
  },
  {
   "cell_type": "code",
   "execution_count": null,
   "id": "84bb30d8",
   "metadata": {},
   "outputs": [],
   "source": [
    "#Change to POSCAR\n",
    "#df4.drop(['#N', 'molecule-tag', 'atom-type', 'q', 'nx', 'ny', 'nz'], axis=1)\n",
    "#df4.drop(columns =['#N', 'molecule-tag', 'atom-type', 'q', 'nx', 'ny', 'nz'])\n",
    "\n",
    "df4.drop('N', axis=1, inplace=True)\n",
    "df4.drop('molecule-tag', axis=1, inplace=True)\n",
    "df4.drop('q', axis=1, inplace=True)\n",
    "df4.drop('nx', axis=1, inplace=True)\n",
    "df4.drop('ny', axis=1, inplace=True)\n",
    "df4.drop('nz', axis=1, inplace=True)\n",
    "print(df)\n",
    "\n",
    "df4.to_csv('dataMIL_cut_76_xyzAlone_with_AT.txt', sep=\" \", index=False,header=None)\n",
    "\n"
   ]
  },
  {
   "cell_type": "code",
   "execution_count": null,
   "id": "5b2eac48",
   "metadata": {},
   "outputs": [],
   "source": []
  },
  {
   "cell_type": "code",
   "execution_count": null,
   "id": "93d76820",
   "metadata": {},
   "outputs": [],
   "source": [
    "def counter(list, x):\n",
    "    count = 0\n",
    "    for item in list:\n",
    "        if (item==x):\n",
    "            count += 1\n",
    "    return count  \n"
   ]
  },
  {
   "cell_type": "code",
   "execution_count": null,
   "id": "583b848b",
   "metadata": {},
   "outputs": [],
   "source": [
    "Filename = 'dataMIL_cut_76_xyzAlone_with_AT.txt' \n",
    "#Filename = df\n",
    "DataF = []\n",
    "\n",
    "with open(Filename) as csvfile:\n",
    "    csvReader = csv.reader(csvfile, delimiter=' ')\n",
    "    atom_types = []\n",
    "    for row in csvReader:\n",
    "        data = list(filter(None, row))\n",
    "        #print(data)\n",
    "        DataF.append(data)\n",
    "            \n",
    "#print(DataF)\n",
    "#print(DataF[0][0])\n",
    "#print(DataF[1][0])\n",
    "#print(range(len(DataF)))\n",
    "\n",
    "#AtomTypes = []\n",
    "\n",
    "#for t in range(1,len(DataF)+1):\n",
    "#    AtomTypes.append(t)\n",
    "\n",
    "#print(AtomTypes)\n",
    "\n",
    "#print(atom_types)"
   ]
  },
  {
   "cell_type": "code",
   "execution_count": null,
   "id": "6ff3e57e",
   "metadata": {},
   "outputs": [],
   "source": []
  },
  {
   "cell_type": "code",
   "execution_count": null,
   "id": "e320c13b",
   "metadata": {},
   "outputs": [],
   "source": [
    "#atom_types = df['atom-type'] # AtomTypes is written as type_1, type_2 ...etc \n",
    "\n",
    "atom_types = at_type['atom-type'] # Grab atom type column#\n",
    "#print(atom_types)\n",
    "\n",
    "no_atoms = list(range(1, 77)) # This is a list with the total number of atoms\n",
    "#print(no_atoms[0])\n",
    "\n",
    "AtomTypes = [list(range(1, 77))] # This is a list with the different types of atom species\n",
    "\n",
    "print(type(AtomTypes[0]))\n",
    "#print(len(AtomTypes[0])) # Total number of atom species\n",
    "#print(range(0,len(AtomTypes[0])))\n",
    "\n",
    "Coords = [] # This is where the x,y,z coordinates for each atom will be stored\n",
    "#SpeciesCount = [] # This is to store an array with the number of atoms per atom type\n",
    "atom_num = [] # temporary array to story the column with the associated atom type number from the .gen file\n",
    "\n",
    "for i in range(len(DataF)):\n",
    "    #print(DataF)\n",
    "    row = [float(j) for j in DataF[i]]\n",
    "    #print(row)\n",
    "    new_row = np.array([row[1],row[2],row[3]])\n",
    "    #print(new_row)\n",
    "    Coords.append(new_row)\n",
    "    \n",
    "    #check this!!\n",
    "    #atom_num.append(int(row[0]))  # Number associated with the atomic species in column 2 of .gen file    \n",
    "    atom_num.append(int(row[0]))\n",
    "    #print(atom_num)\n",
    "\n",
    "#for i in range(1,len(AtomTypes[0])+1):\n",
    "    #count = counter(atom_num,i)\n",
    "    #SpeciesCount.append(count)\n",
    "#    print(SpeciesCount)\n",
    "\n",
    "#print(np.shape(Coords))\n",
    "#print(SpeciesCount)\n",
    "#print(atom_types)\n",
    "#print(AtomTypes[0])\n",
    "\n",
    "\n",
    "###To get sorted numbers\n",
    "SpeciesCount = [1] * 76\n",
    "#print(SpeciesCount)"
   ]
  },
  {
   "cell_type": "code",
   "execution_count": null,
   "id": "2ea81cc4",
   "metadata": {},
   "outputs": [],
   "source": [
    "#SimCell = [[16.409522341, 0.0, 0.0], [8.2357314485e-05, 13.7567841769, 0.0], [-0.0149687624, -0.0018756209, 6.5409272391]]"
   ]
  },
  {
   "cell_type": "markdown",
   "id": "a4e015fa",
   "metadata": {},
   "source": [
    "SimCell = [] # This is to store the simulation cell parameters\n",
    "\n",
    "for i in range((len(DataF)-3),len(DataF)):\n",
    "    row = [float(j) for j in DataF[i]]\n",
    "    SimCell.append([row[0],row[1],row[2]])\n",
    "        \n",
    "print(np.shape(SimCell))\n",
    "print(SimCell)"
   ]
  },
  {
   "cell_type": "code",
   "execution_count": null,
   "id": "b71b32a1",
   "metadata": {},
   "outputs": [],
   "source": [
    "SimCell = []\n",
    "\n",
    "#print(data_file.head(4))\n",
    "\n",
    "a_data = [float(data_file.loc[8][1]) - float(data_file.loc[8][0]), 0.0, 0.0]\n",
    "b_data = [float(data_file.loc[11][0]), float(data_file.loc[9][1]) - float(data_file.loc[9][0]), 0.0]\n",
    "c_data = [float(data_file.loc[11][1]), float(data_file.loc[11][2]), float(data_file.loc[10][1]) - float(data_file.loc[10][0])]\n",
    "\n",
    "#print(data_file)\n",
    "#print(data_file['N'])\n",
    "\n",
    "#print(a_data)\n",
    "#print(b_data)\n",
    "#print(c_data)\n",
    "\n",
    "SimCell.append([a_data,b_data,c_data])\n",
    "\n",
    "SimCell = SimCell[0]\n",
    "print(SimCell)\n",
    "\n",
    "print(AtomTypes[0])\n",
    "#print(type(AtomTypes[0]))\n",
    "\n",
    "#thislist = AtomTypes[0]\n",
    "#for x in thislist:\n",
    "#    print(x)"
   ]
  },
  {
   "cell_type": "markdown",
   "id": "570a29dd",
   "metadata": {},
   "source": [
    "POSCAR = open('POSCAR_from_Python2', 'w') # Create a file to write to \n",
    "Header = \"POSCAR from LAMMPS data file\\n\" # First line in POSCAR file\n",
    "Scaling = \"1\\n\" # second line in POSCAR file\n",
    "\n",
    "POSCAR.write(Header)\n",
    "POSCAR.write(Scaling)\n",
    "\n",
    "for row in range(0,3):\n",
    "    POSCAR.write(str(SimCell[row][0]) + ' ' + str(SimCell[row][1]) + ' ' + str(SimCell[row][2]) + \"\\n\")\n",
    "\n",
    "for element in range(0,len(AtomTypes[0])):\n",
    "    POSCAR.write(str(AtomTypes[0])[element] + ' ')\n",
    "POSCAR.write(\"\\n\")\n",
    "for element in range(0,len(AtomTypes[0])):\n",
    "    POSCAR.write(str(SpeciesCount[element]) + ' ')\n",
    "POSCAR.write(\"\\n\")\n",
    "\n",
    "POSCAR.write(\"Cartesian\\n\")\n",
    "\n",
    "for row in range(0,len(Coords)):\n",
    "    POSCAR.write(str(Coords[row][0]) + ' ' + str(Coords[row][1]) + ' ' + str(Coords[row][2]) + \"\\n\")\n",
    "\n",
    "POSCAR.close()"
   ]
  },
  {
   "cell_type": "code",
   "execution_count": null,
   "id": "9ba3e852",
   "metadata": {},
   "outputs": [],
   "source": []
  },
  {
   "cell_type": "code",
   "execution_count": null,
   "id": "1438127e",
   "metadata": {},
   "outputs": [],
   "source": [
    "#Grab atom type column\n",
    "POSCAR = open('POSCAR_from_Python_with_spType', 'w') # Create a file to write to \n",
    "Header = \"POSCAR from LAMMPS data file\\n\" # First line in POSCAR file\n",
    "Scaling = \"1\\n\" # second line in POSCAR file\n",
    "#non1 = \"Type_\"\n",
    "#non2 = \"1\\n\"\n",
    "#s4 = non1 + non2\n",
    "#print(s4)\n",
    "\n",
    "POSCAR.write(Header)\n",
    "POSCAR.write(Scaling)\n",
    "\n",
    "for row in range(0,3):\n",
    "    POSCAR.write(str(SimCell[row][0]) + ' ' + str(SimCell[row][1]) + ' ' + str(SimCell[row][2]) + \"\\n\")\n",
    "\n",
    "for element in atom_types:\n",
    "    POSCAR.write(str(element) + ' ')\n",
    "    #print(element)\n",
    "POSCAR.write(\"\\n\")\n",
    "\n",
    "#thislist = AtomTypes[0]\n",
    "#for x in thislist:\n",
    " #   print(x)\n",
    "    \n",
    "for element in range(0,len(AtomTypes[0])):\n",
    "    POSCAR.write(str(SpeciesCount[element]) + ' ')\n",
    "POSCAR.write(\"\\n\")\n",
    "\n",
    "POSCAR.write(\"Cartesian\\n\")\n",
    "\n",
    "for row in range(0,len(Coords)):\n",
    "    POSCAR.write(str(Coords[row][0]) + ' ' + str(Coords[row][1]) + ' ' + str(Coords[row][2]) + \"\\n\")\n",
    "\n",
    "POSCAR.close()"
   ]
  },
  {
   "cell_type": "code",
   "execution_count": null,
   "id": "0746a2dc",
   "metadata": {},
   "outputs": [],
   "source": []
  },
  {
   "cell_type": "code",
   "execution_count": null,
   "id": "ea193ed1",
   "metadata": {},
   "outputs": [],
   "source": []
  },
  {
   "cell_type": "markdown",
   "id": "fe6e700a",
   "metadata": {},
   "source": [
    "#Make all 76 atoms unique types\n",
    "df1 = pd.read_csv(\"data.MIL-cut-cut\", sep=\" \")\n",
    "#print(df)\n",
    "\n",
    "df1['atom-type'] = range(1,len(df1)+1) \n",
    "print(df1)\n",
    "\n",
    "#df.to_csv('dataMIL_cut_76.txt', sep=\" \", index=False)\n",
    "\n",
    "#Do same for their velocities?\n",
    "'''\n",
    "atom_typ = df['atom-type']\n",
    "\n",
    "def num(x):\n",
    "    for i in np.arange(1, 77, 1, dtype=int): \n",
    "        return i\n",
    "\n",
    "new_atom_typ = atom_typ.apply(num)\n",
    "df['atom-type'] = new_atom_typ\n",
    "print(df)\n",
    "'''"
   ]
  },
  {
   "cell_type": "code",
   "execution_count": null,
   "id": "e0fccb87",
   "metadata": {},
   "outputs": [],
   "source": []
  },
  {
   "cell_type": "markdown",
   "id": "af2f7d85",
   "metadata": {
    "scrolled": false
   },
   "source": [
    "#Sort by atom type\n",
    "df2 = pd.read_csv(\"data.MIL-cut-cut\", sep=\" \")\n",
    "#print(df2)\n",
    "\n",
    "df3 = df2.sort_values(by=['atom-type'])\n",
    "#print(df3)\n",
    "\n",
    "#df3.to_csv('dataMIL_cut_sort.txt', sep=\" \", index=False)\n"
   ]
  },
  {
   "cell_type": "code",
   "execution_count": null,
   "id": "5ceba38f",
   "metadata": {},
   "outputs": [],
   "source": []
  },
  {
   "cell_type": "code",
   "execution_count": null,
   "id": "87032002",
   "metadata": {},
   "outputs": [],
   "source": []
  },
  {
   "cell_type": "code",
   "execution_count": null,
   "id": "a697d33d",
   "metadata": {},
   "outputs": [],
   "source": []
  }
 ],
 "metadata": {
  "kernelspec": {
   "display_name": "Python 3 (ipykernel)",
   "language": "python",
   "name": "python3"
  },
  "language_info": {
   "codemirror_mode": {
    "name": "ipython",
    "version": 3
   },
   "file_extension": ".py",
   "mimetype": "text/x-python",
   "name": "python",
   "nbconvert_exporter": "python",
   "pygments_lexer": "ipython3",
   "version": "3.12.3"
  }
 },
 "nbformat": 4,
 "nbformat_minor": 5
}
