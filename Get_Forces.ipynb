{
 "cells": [
  {
   "cell_type": "code",
   "execution_count": null,
   "id": "6a6bb91b",
   "metadata": {},
   "outputs": [],
   "source": [
    "# Initialize Python packages\n",
    "import math\n",
    "import seaborn as sns\n",
    "import scipy as sp\n",
    "import numpy  as np\n",
    "import copy\n",
    "import matplotlib.pylab as plt\n",
    "from matplotlib import rcParams\n",
    "from matplotlib.ticker import FormatStrFormatter\n",
    "import time\n",
    "import datetime\n",
    "import subprocess\n",
    "import itertools\n",
    "from itertools import groupby, repeat, islice\n",
    "\n",
    "sns.set_style(\"ticks\", {\"xtick.major.size\":8,\"ytick.major.size\":8})\n",
    "\n",
    "sns.set_context(\"notebook\",rc={\"grid.linewidth\": 0, \n",
    "                            \"font.family\":\"Helvetica\", \"axes.labelsize\":24.,\"xtick.labelsize\":24., \n",
    "                            \"ytick.labelsize\":24., \"legend.fontsize\":18.})\n",
    "\n",
    "colors = sns.color_palette(\"tab10\", 4) "
   ]
  },
  {
   "cell_type": "raw",
   "id": "598500b3-7961-4c1a-9970-cd4a26930d7d",
   "metadata": {},
   "source": [
    "extract forces from dftb+ md.out file"
   ]
  },
  {
   "cell_type": "code",
   "execution_count": null,
   "id": "9f858495",
   "metadata": {},
   "outputs": [],
   "source": [
    "def open_file():\n",
    "    input_file = \"md.out\"\n",
    "    a = []\n",
    "    with open(input_file, 'r') as f:\n",
    "        for line in f:\n",
    "            if len(line) > 75:\n",
    "                a.append(line)\n",
    "    return a\n"
   ]
  },
  {
   "cell_type": "code",
   "execution_count": null,
   "id": "b2a7e387",
   "metadata": {},
   "outputs": [],
   "source": [
    "#open_file()"
   ]
  },
  {
   "cell_type": "code",
   "execution_count": null,
   "id": "646f6f0b",
   "metadata": {},
   "outputs": [],
   "source": [
    "def remove_space(b):\n",
    "    new_list = []\n",
    "    for i in b:\n",
    "        x = i.split()\n",
    "        new_list.append(x)\n",
    "    return new_list\n"
   ]
  },
  {
   "cell_type": "code",
   "execution_count": null,
   "id": "453ed8a3",
   "metadata": {},
   "outputs": [],
   "source": [
    "#remove_space(b)"
   ]
  },
  {
   "cell_type": "code",
   "execution_count": null,
   "id": "1939105e",
   "metadata": {},
   "outputs": [],
   "source": [
    "def create_batches(all_list):\n",
    "    batches = []\n",
    "    for i in range(0, len(all_list), 8):\n",
    "        start_index = i\n",
    "        end_index = i + 8\n",
    "        batch = all_list[start_index: end_index]\n",
    "        batches.append(batch)\n",
    "    return batches"
   ]
  },
  {
   "cell_type": "code",
   "execution_count": null,
   "id": "98338f49",
   "metadata": {},
   "outputs": [],
   "source": [
    "def for_ces(list_to_add):\n",
    "    #res = []\n",
    "    result = list_to_add\n",
    "    #res.append(list_to_add)\n",
    "    return result"
   ]
  },
  {
   "cell_type": "markdown",
   "id": "1cfe1c1e",
   "metadata": {},
   "source": [
    "Add forces in x,y,z directions,\n",
    "Force unit = Hartree/bohr,\n",
    "1 Ha/Bohr = 51.42208619083232 eV/Angstrom"
   ]
  },
  {
   "cell_type": "code",
   "execution_count": null,
   "id": "36d92b3c",
   "metadata": {},
   "outputs": [],
   "source": [
    "#forces(list_to_add)"
   ]
  },
  {
   "cell_type": "code",
   "execution_count": null,
   "id": "37955e2b",
   "metadata": {},
   "outputs": [],
   "source": [
    "def calculate_result(batches):\n",
    "    result = []\n",
    "    for i in range(len(batches)):\n",
    "        new_batch = []\n",
    "        batch = batches[i]\n",
    "\n",
    "        for j in range(len(batch)):\n",
    "            new_batch.append(for_ces(batch[j]))\n",
    "\n",
    "        result.append(new_batch)\n",
    "    # print(f'first result:{result} \\n\\n')\n",
    "\n",
    "    return result"
   ]
  },
  {
   "cell_type": "code",
   "execution_count": null,
   "id": "028be5bc",
   "metadata": {},
   "outputs": [],
   "source": [
    "def save_output(result):\n",
    "    with open(\"output.txt\", \"w\") as output_file:\n",
    "        for batch in result:\n",
    "            for row in batch:\n",
    "                output_file.write(str(row) + \"\\n\")\n",
    "            output_file.write(\"\\n\")"
   ]
  },
  {
   "cell_type": "markdown",
   "id": "34ab63a7",
   "metadata": {},
   "source": [
    "\n",
    "def save_output(res):\n",
    "    with open(\"output.txt\", \"w\") as output_file:\n",
    "        for k in res:\n",
    "            for row in k:\n",
    "                output_file.write(str(row) + \"\\n\")\n",
    "            output_file.write(\"\\n\")"
   ]
  },
  {
   "cell_type": "code",
   "execution_count": null,
   "id": "0efee9ab",
   "metadata": {},
   "outputs": [],
   "source": [
    "def run_calculation():\n",
    "    input_file = open_file()\n",
    "    without_space = remove_space(input_file)\n",
    "    batches = create_batches(without_space)\n",
    "    # print(batches)\n",
    "    result = calculate_result(batches)\n",
    "    calculate_result(batches)\n",
    "    save_output(result)\n",
    "    return result"
   ]
  },
  {
   "cell_type": "code",
   "execution_count": null,
   "id": "772a3233",
   "metadata": {},
   "outputs": [],
   "source": [
    "test = run_calculation()\n",
    "pes = []\n",
    "total = 0\n",
    "for batch in test:\n",
    "    for row in batch:\n",
    "        i = float(row[-1])\n",
    "        #print(f'{i}\\n')\n",
    "        total += i\n",
    "\n",
    "    pes.append(total)\n",
    "    total = 0"
   ]
  }
 ],
 "metadata": {
  "kernelspec": {
   "display_name": "Python 3 (ipykernel)",
   "language": "python",
   "name": "python3"
  },
  "language_info": {
   "codemirror_mode": {
    "name": "ipython",
    "version": 3
   },
   "file_extension": ".py",
   "mimetype": "text/x-python",
   "name": "python",
   "nbconvert_exporter": "python",
   "pygments_lexer": "ipython3",
   "version": "3.12.3"
  }
 },
 "nbformat": 4,
 "nbformat_minor": 5
}
