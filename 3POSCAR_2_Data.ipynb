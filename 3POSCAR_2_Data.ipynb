{
 "cells": [
  {
   "cell_type": "code",
   "execution_count": null,
   "id": "7dc19509",
   "metadata": {},
   "outputs": [],
   "source": [
    "#!/usr/bin/env python\n",
    "import sys\n",
    "import numpy as np\n",
    "import csv\n",
    "import pandas as pd\n"
   ]
  },
  {
   "cell_type": "raw",
   "id": "6d149e4c-258c-4f9d-8b19-098675bb3f65",
   "metadata": {},
   "source": [
    "To get Forces with LAMMPS\n",
    "1. Convert data.file to poscar\n",
    "2. Convert poscar to poscar\n",
    "3. Convert poscar to data.file"
   ]
  },
  {
   "cell_type": "code",
   "execution_count": null,
   "id": "87bde897",
   "metadata": {},
   "outputs": [],
   "source": [
    "#To get SimCells\n",
    "\n",
    "colnames=['N','molecule-tag','atom-type','q','x','y','z','nx','ny','nz'] \n",
    "\n",
    "data_file1 = pd.read_csv(\"data.MIL-53-Al-1x1x1-minimized-minimized22-minimized22\", sep=\" \",names=colnames, header=None,skiprows=11,engine='python')\n",
    "\n",
    "#print(dat_f1)\n",
    "#dat_f1.head(20)\n",
    "\n",
    "#data_file1 = dat_f1.drop(dat_f1.index[[0,1,2,3,4,5,6,7]]) \n",
    "#data_file1 = dat_f1.drop(dat_f1.index[0:8]) \n",
    "data_file1.head(4)\n",
    "#dat_f1.to_csv('dataMIL_cut_76.txt', sep=\" \", index=False)\n"
   ]
  },
  {
   "cell_type": "code",
   "execution_count": null,
   "id": "22b9873c",
   "metadata": {},
   "outputs": [],
   "source": []
  },
  {
   "cell_type": "code",
   "execution_count": null,
   "id": "091edb4a",
   "metadata": {},
   "outputs": [],
   "source": [
    "#Have only atoms section\n",
    "\n",
    "colnames=['N','molecule-tag','atom-type','q','x','y','z','nx','ny','nz'] \n",
    "\n",
    "dat_f2 = pd.read_csv(\"data.MIL-53-Al-1x1x1-minimized-minimized22-minimized22\",sep=r'\\s+',names=colnames, header=None,skiprows=79,skipfooter=524,engine='python')\n",
    "data_file2 = dat_f2\n",
    "#print(dat_f2)\n",
    "#print(dat_f2.head(64))\n",
    "\n",
    "#data_file2 = dat_f2.drop(dat_f2.index[0:65])\n",
    "\n",
    "#print(data_file2)\n",
    "data_file2.head(76)\n",
    "#dat_f2.to_csv('dataMIL_cut_76.txt', sep=\" \", index=False)\n",
    "\n",
    "#print(data_file2[['N','molecule-tag','atom-type']])\n",
    "\n"
   ]
  },
  {
   "cell_type": "code",
   "execution_count": null,
   "id": "bdb58dd5",
   "metadata": {},
   "outputs": [],
   "source": [
    "three_col_before = data_file2[['N','molecule-tag','atom-type','q']]\n",
    "three_col_before = three_col_before.drop(three_col_before.index[76:600])\n",
    "print(three_col_before.dtypes)\n",
    "#three_col_before.head(77)\n",
    "\n",
    "three_col_before=three_col_before.astype({'N': int, 'molecule-tag' :int, 'atom-type':int})\n",
    "print(three_col_before.dtypes)\n",
    "\n",
    "three_col_before.to_csv('three_col_before.txt', sep=\" \", index=False,header=None)\n"
   ]
  },
  {
   "cell_type": "code",
   "execution_count": null,
   "id": "347c40e6",
   "metadata": {},
   "outputs": [],
   "source": []
  },
  {
   "cell_type": "code",
   "execution_count": null,
   "id": "6f8c62ca",
   "metadata": {},
   "outputs": [],
   "source": [
    "three_col_after = data_file2[['nx','ny','nz']]\n",
    "three_col_after = three_col_after.drop(three_col_after.index[76:600])\n",
    "#print(three_col_after)\n",
    "print(three_col_after.dtypes)\n",
    "#three_col_after.head(77)\n",
    "\n",
    "three_col_after=three_col_after.astype({'nx': int, 'ny' :int, 'nz':int})\n",
    "print(three_col_after.dtypes)\n",
    "\n",
    "three_col_after.to_csv('three_col_after.txt', sep=\" \", index=False,header=None)\n"
   ]
  },
  {
   "cell_type": "code",
   "execution_count": null,
   "id": "412c5ac9",
   "metadata": {},
   "outputs": [],
   "source": [
    "#def joined():"
   ]
  },
  {
   "cell_type": "code",
   "execution_count": null,
   "id": "d72101d9",
   "metadata": {},
   "outputs": [],
   "source": [
    "col1=['N','molecule-tag','atom-type','q'] \n",
    "col2=['nx','ny','nz']\n",
    "col3=['x','y','z']\n",
    "\n",
    "df1_1 = pd.read_csv(\"three_col_before.txt\", sep=\" \", header=None,names=col1)\n",
    "df3_3 = pd.read_csv(\"three_col_after.txt\", sep=\" \", header=None,names=col2)\n",
    "\n",
    "#range(1,457): #skiprows #note to self\n",
    "\n",
    "colnames=['N','molecule-tag','atom-type','q','x','y','z','nx','ny','nz'] \n",
    "\n",
    "for i in range(1,457): \n",
    "    if i < 10:\n",
    "        \n",
    "        df2_2 = pd.read_csv(f\"POSCAR-true-00{i}\", sep=r'\\s+',header=None,names=col3,skiprows=8) # error_bad_lines=False, on_bad_lines='skip'\n",
    "        df2_2 = df2_2.dropna(axis=1, how='all')\n",
    "\n",
    "        DF_joined = pd.concat([df1_1, df2_2, df3_3], axis=1)\n",
    "        #DF_joined = pd.DataFrame(DF_joined, columns = [1,2,3,4,5,6,7,8,9])\n",
    "        \n",
    "        DataF = open(f\"data.POSCAR-00{i}\", 'w') # Create a file to write to \n",
    "\n",
    "        DataF.write(\"Atoms # full\\n\")\n",
    "        DataF.write(\"\\n\")\n",
    "        for row in range(0,len(DF_joined)):\n",
    "            DataF.write(f\"{int(DF_joined.iloc[row]['N'])} {int(DF_joined.iloc[row]['molecule-tag'])} {int(DF_joined.iloc[row]['atom-type'])} {DF_joined.iloc[row]['q']} {DF_joined.iloc[row]['x']} {DF_joined.iloc[row]['y']} {DF_joined.iloc[row]['z']} {int(DF_joined.iloc[row]['nx'])} {int(DF_joined.iloc[row]['ny'])} {int(DF_joined.iloc[row]['nz'])} \\n\")\n",
    "                \n",
    "               \n",
    "        DataF.close()\n",
    "\n",
    "\n",
    "\n",
    "        \n",
    "    if 10 <= i < 100:\n",
    "        \n",
    "        df2_2 = pd.read_csv(f\"POSCAR-true-0{i}\", sep=r'\\s+',header=None,names=col3,skiprows=8)\n",
    "        df2_2 = df2_2.dropna(axis=1, how='all')\n",
    "\n",
    "        DF_joined = pd.concat([df1_1, df2_2, df3_3], axis=1,names=col3)\n",
    "\n",
    "        #DF_joined.to_csv(f'DF_joined-0{i}.txt', sep=\" \", index=False,header=None)\n",
    "        \n",
    "        DataF = open(f\"data.POSCAR-0{i}\", 'w') # Create a file to write to \n",
    "        DataF.write(\"Atoms # full\\n\")\n",
    "        DataF.write(\"\\n\")\n",
    "        for row in range(0,len(DF_joined)):\n",
    "            DataF.write(f\"{int(DF_joined.iloc[row]['N'])} {int(DF_joined.iloc[row]['molecule-tag'])} {int(DF_joined.iloc[row]['atom-type'])} {DF_joined.iloc[row]['q']} {DF_joined.iloc[row]['x']} {DF_joined.iloc[row]['y']} {DF_joined.iloc[row]['z']} {int(DF_joined.iloc[row]['nx'])} {int(DF_joined.iloc[row]['ny'])} {int(DF_joined.iloc[row]['nz'])} \\n\")\n",
    "                \n",
    "               \n",
    "        DataF.close()\n",
    "\n",
    "\n",
    "    if 100 <= i < 500:\n",
    "        \n",
    "        df2_2 = pd.read_csv(f\"POSCAR-true-{i}\", sep=r'\\s+',header=None,names=col3,skiprows=8)\n",
    "        df2_2 = df2_2.dropna(axis=1, how='all')\n",
    "\n",
    "        DF_joined = pd.concat([df1_1, df2_2, df3_3], axis=1,names=col3)\n",
    "        \n",
    "#print(DF_joined)\n",
    "\n",
    "        #DF_joined.to_csv(f'DF_joined-{i}.txt', sep=\" \", index=False,header=None)\n",
    "        \n",
    "        DataF = open(f\"data.POSCAR-{i}\", 'w') # Create a file to write to \n",
    "        DataF.write(\"Atoms # full\\n\")\n",
    "        DataF.write(\"\\n\")\n",
    "        for row in range(0,len(DF_joined)):\n",
    "            DataF.write(f\"{int(DF_joined.iloc[row]['N'])} {int(DF_joined.iloc[row]['molecule-tag'])} {int(DF_joined.iloc[row]['atom-type'])} {DF_joined.iloc[row]['q']} {DF_joined.iloc[row]['x']} {DF_joined.iloc[row]['y']} {DF_joined.iloc[row]['z']} {int(DF_joined.iloc[row]['nx'])} {int(DF_joined.iloc[row]['ny'])} {int(DF_joined.iloc[row]['nz'])} \\n\")\n",
    "                \n",
    "               \n",
    "        DataF.close()\n",
    "\n"
   ]
  },
  {
   "cell_type": "markdown",
   "id": "a8eec638",
   "metadata": {
    "scrolled": true
   },
   "source": [
    "print(DF_joined.dtypes)"
   ]
  },
  {
   "cell_type": "code",
   "execution_count": null,
   "id": "55dc9b31",
   "metadata": {},
   "outputs": [],
   "source": []
  },
  {
   "cell_type": "code",
   "execution_count": null,
   "id": "21befa5e",
   "metadata": {},
   "outputs": [],
   "source": []
  },
  {
   "cell_type": "markdown",
   "id": "f1f25907",
   "metadata": {},
   "source": [
    "#print(type(DF_joined.loc[0]['N']))\n",
    "\n",
    "DF_joined['N']=DF_joined['N'].astype('int32')\n",
    "print(type(DF_joined.loc[0]['N']))\n",
    "\n",
    "DF_joined=DF_joined.astype({'N': int})\n",
    "\n",
    "print(DF_joined.loc[0]['N'])\n",
    "\n",
    "#DF_joined.astype('int64').dtypes\n",
    "print(type(DF_joined.loc[0]['N']))\n"
   ]
  },
  {
   "cell_type": "code",
   "execution_count": null,
   "id": "d254cffa",
   "metadata": {},
   "outputs": [],
   "source": []
  }
 ],
 "metadata": {
  "kernelspec": {
   "display_name": "Python 3 (ipykernel)",
   "language": "python",
   "name": "python3"
  },
  "language_info": {
   "codemirror_mode": {
    "name": "ipython",
    "version": 3
   },
   "file_extension": ".py",
   "mimetype": "text/x-python",
   "name": "python",
   "nbconvert_exporter": "python",
   "pygments_lexer": "ipython3",
   "version": "3.12.3"
  }
 },
 "nbformat": 4,
 "nbformat_minor": 5
}
